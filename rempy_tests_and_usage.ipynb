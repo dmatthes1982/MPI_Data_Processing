{
 "cells": [
  {
   "cell_type": "code",
   "execution_count": 1,
   "metadata": {
    "collapsed": true
   },
   "outputs": [],
   "source": [
    "import sys\n",
    "import io\n",
    "from threading import Thread\n",
    "from time import sleep\n",
    "from io import BytesIO \n",
    "from rempy import *\n",
    "import io\n",
    "from IPython.display import clear_output"
   ]
  },
  {
   "cell_type": "code",
   "execution_count": 2,
   "metadata": {
    "collapsed": true
   },
   "outputs": [],
   "source": [
    "def run_motion_processing(my_buffer, infile, outfile, server):\n",
    "    command = RemotePython.assemble_command(\"motob = ComputeMotion('{}','{}')\",[infile,outfile])\n",
    "    rem = RemotePython(stream = my_buffer, server = server) \n",
    "    rem.fast_command(command)\n",
    "    rem.long_command(\"motob.to_file()\", expectation=\"total_time.*\")"
   ]
  },
  {
   "cell_type": "code",
   "execution_count": 3,
   "metadata": {
    "collapsed": true
   },
   "outputs": [],
   "source": [
    "def start_thread(buffer, infile, outfile, server):\n",
    "    thread = Thread(target = run_motion_processing, args = (buffer,infile,outfile,server, ))\n",
    "    thread.start()\n",
    "    return thread"
   ]
  },
  {
   "cell_type": "code",
   "execution_count": null,
   "metadata": {
    "collapsed": true
   },
   "outputs": [],
   "source": [
    "#my_buffer = StringIO()#BytesIO()\n",
    "\n",
    "threads = []\n",
    "buffers = []\n",
    "\n",
    "infiles = ['/data/p_01888/Databook_cleaning/Video/Pilot_29/coSMIC_all_P29_C1.wmv',\n",
    "           '/data/p_01888/Databook_cleaning/Video/Pilot_29/coSMIC_all_P29_C2.wmv',\n",
    "           '/data/p_01888/Databook_cleaning/Video/Pilot_29/coSMIC_all_P29_C3.wmv',\n",
    "           '/data/p_01888/Databook_cleaning/Video/Pilot_29/coSMIC_all_P29_C4.wmv',\n",
    "           '/data/p_01888/Databook_cleaning/Video/Pilot_30/coSMIC_all_P30_C1.wmv',\n",
    "           '/data/p_01888/Databook_cleaning/Video/Pilot_30/coSMIC_all_P30_C2.wmv']\n",
    "\n",
    "outfiles = ['/data/pt_01888/motionData/coSMIC_all_P29_C1.wmv.mot',\n",
    "            '/data/pt_01888/motionData/coSMIC_all_P29_C2.wmv.mot',\n",
    "            '/data/pt_01888/motionData/coSMIC_all_P29_C3.wmv.mot',\n",
    "            '/data/pt_01888/motionData/coSMIC_all_P29_C4.wmv.mot',\n",
    "            '/data/pt_01888/motionData/coSMIC_all_P30_C1.wmv.mot',\n",
    "            '/data/pt_01888/motionData/coSMIC_all_P30_C2.wmv.mot']\n",
    "\n",
    "#servers = [\"rosmarin\",\"himbeere\",\"madonna\",\"spliff\", \"unheilig\", \"erbse\"]\n",
    "servers = [\"dinkel\",\"berg\",\"springsteen\",\"roxette\", \"rihanna\", \"rilke\"]\n",
    "\n",
    "for infile, outfile, server in zip(infiles, outfiles, servers):\n",
    "    my_buffer = io.StringIO()\n",
    "    thread = start_thread(my_buffer, infile, outfile, server)\n",
    "    threads.append(thread)\n",
    "    buffers.append(my_buffer)\n",
    "\n",
    "    \n",
    "current_buf = 0\n",
    "try:\n",
    "    while True:\n",
    "        clear_output()\n",
    "        print(buffers[current_buf].getvalue())\n",
    "        print(\"---------------------------------------------\")\n",
    "        try:\n",
    "            time.sleep(0.5)\n",
    "            print(\"Options: \")\n",
    "            print(\"1: leave\")\n",
    "            print(\"2: end\")\n",
    "            print(\"3: Integer referring to server number\")\n",
    "            user_command = input('Choose your option')\n",
    "            try:\n",
    "                current_buf = int(user_command)\n",
    "            except:\n",
    "                pass\n",
    "            if(user_command == \"leave\"):\n",
    "                break\n",
    "            if(user_command == \"end\"): threads[current_buf].abort_command()\n",
    "        except:\n",
    "            pass\n",
    "except KeyboardInterrupt:\n",
    "    pass\n",
    "\n",
    "thread.join()"
   ]
  }
 ],
 "metadata": {
  "kernelspec": {
   "display_name": "Python [default]",
   "language": "python",
   "name": "python3"
  },
  "language_info": {
   "codemirror_mode": {
    "name": "ipython",
    "version": 3
   },
   "file_extension": ".py",
   "mimetype": "text/x-python",
   "name": "python",
   "nbconvert_exporter": "python",
   "pygments_lexer": "ipython3",
   "version": "3.6.3"
  }
 },
 "nbformat": 4,
 "nbformat_minor": 2
}
