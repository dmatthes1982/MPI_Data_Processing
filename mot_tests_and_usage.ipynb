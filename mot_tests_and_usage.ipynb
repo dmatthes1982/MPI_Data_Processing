{
 "cells": [
  {
   "cell_type": "code",
   "execution_count": 4,
   "metadata": {},
   "outputs": [
    {
     "name": "stdout",
     "output_type": "stream",
     "text": [
      "Estimated time to compute -1 pairs: 0 s \n",
      "## Completed -0.0% ##\n"
     ]
    }
   ],
   "source": [
    "#from python_scripts.MPI_Data_Processing.mot import *\n",
    "from mot import *\n",
    "from os.path import basename\n",
    "\n",
    "outpath = \"/data/pt_01888/motionData/1/\"\n",
    "\n",
    "vids = []\n",
    "vids.append(\"/data/p_01888/Databook_cleaning/Video/Pilot_18/coSMIC_all_P18_C1.wmv\")\n",
    "vids.append(\"/data/p_01888/Databook_cleaning/Video/Pilot_18/coSMIC_all_P18_C2.wmv\")\n",
    "vids.append(\"/data/p_01888/Databook_cleaning/Video/Pilot_20/coSMIC_all_P20_C3.wmv\")\n",
    "vids.append(\"/data/p_01888/Databook_cleaning/Video/Pilot_18/coSMIC_all_P18_C4.wmv\")\n",
    "vids.append(\"/data/p_01888/Databook_cleaning/Video/Pilot_16/coSMIC_all_P16_C1.wmv\")\n",
    "vids.append(\"/data/p_01888/Databook_cleaning/Video/Pilot_16/coSMIC_all_P16_C2.wmv\")\n",
    "vids.append(\"/data/p_01888/Databook_cleaning/Video/Pilot_16/coSMIC_all_P16_C3.wmv\")\n",
    "vids.append(\"/data/p_01888/Databook_cleaning/Video/Pilot_16/coSMIC_all_P16_C4.wmv\")\n",
    "\n",
    "basenames =[basename(x) for x in vids]\n",
    "outfiles = [outpath + x[:-4]+\".mot\" for x in basenames]"
   ]
  },
  {
   "cell_type": "code",
   "execution_count": 7,
   "metadata": {},
   "outputs": [
    {
     "name": "stdout",
     "output_type": "stream",
     "text": [
      "Estimated time to compute -1 pairs: 0 s \n",
      "## Completed -0.0% ##\n"
     ]
    }
   ],
   "source": [
    "motob = ComputeMotion(vids[3],outfiles[3],algorithm='farneback')\n",
    "motob.to_file()"
   ]
  }
 ],
 "metadata": {
  "kernelspec": {
   "display_name": "Python [default]",
   "language": "python",
   "name": "python3"
  },
  "language_info": {
   "codemirror_mode": {
    "name": "ipython",
    "version": 3
   },
   "file_extension": ".py",
   "mimetype": "text/x-python",
   "name": "python",
   "nbconvert_exporter": "python",
   "pygments_lexer": "ipython3",
   "version": "3.6.3"
  }
 },
 "nbformat": 4,
 "nbformat_minor": 2
}
